{
 "cells": [
  {
   "cell_type": "markdown",
   "metadata": {},
   "source": [
    "# <center>Query</center>"
   ]
  },
  {
   "cell_type": "markdown",
   "metadata": {},
   "source": [
    "## Import PyMongo"
   ]
  },
  {
   "cell_type": "code",
   "execution_count": 1,
   "metadata": {},
   "outputs": [],
   "source": [
    "import pymongo"
   ]
  },
  {
   "cell_type": "markdown",
   "metadata": {},
   "source": [
    "## Creating a connection"
   ]
  },
  {
   "cell_type": "code",
   "execution_count": 2,
   "metadata": {},
   "outputs": [],
   "source": [
    "from pymongo import MongoClient"
   ]
  },
  {
   "cell_type": "code",
   "execution_count": 3,
   "metadata": {},
   "outputs": [],
   "source": [
    "client = MongoClient()"
   ]
  },
  {
   "cell_type": "code",
   "execution_count": 4,
   "metadata": {},
   "outputs": [],
   "source": [
    "client = MongoClient('localhost', 27017)"
   ]
  },
  {
   "cell_type": "markdown",
   "metadata": {},
   "source": [
    "## Create a database"
   ]
  },
  {
   "cell_type": "code",
   "execution_count": 5,
   "metadata": {},
   "outputs": [],
   "source": [
    "db = client.products"
   ]
  },
  {
   "cell_type": "markdown",
   "metadata": {},
   "source": [
    "### Check if database exists"
   ]
  },
  {
   "cell_type": "code",
   "execution_count": 6,
   "metadata": {},
   "outputs": [
    {
     "name": "stdout",
     "output_type": "stream",
     "text": [
      "['admin', 'car', 'cars', 'config', 'crashdatacollection', 'local', 'mydatabase', 'namedb', 'newdb', 'potter', 'products', 'test', 'testdb', 'thrones', 'weather_db', 'weather_db_temp']\n"
     ]
    }
   ],
   "source": [
    "print(client.list_database_names())"
   ]
  },
  {
   "cell_type": "markdown",
   "metadata": {},
   "source": [
    "## Create a collection"
   ]
  },
  {
   "cell_type": "code",
   "execution_count": 7,
   "metadata": {},
   "outputs": [],
   "source": [
    "productlisting_col = db[\"productlisting\"]"
   ]
  },
  {
   "cell_type": "markdown",
   "metadata": {},
   "source": [
    "### Check if Collection Exists"
   ]
  },
  {
   "cell_type": "code",
   "execution_count": 8,
   "metadata": {},
   "outputs": [
    {
     "name": "stdout",
     "output_type": "stream",
     "text": [
      "['productlisting']\n"
     ]
    }
   ],
   "source": [
    "print(db.list_collection_names())"
   ]
  },
  {
   "cell_type": "markdown",
   "metadata": {},
   "source": [
    "### Check a specific database exists"
   ]
  },
  {
   "cell_type": "code",
   "execution_count": 9,
   "metadata": {},
   "outputs": [
    {
     "name": "stdout",
     "output_type": "stream",
     "text": [
      "The collection exists.\n"
     ]
    }
   ],
   "source": [
    "col_list = db.list_collection_names()\n",
    "if \"productlisting\" in col_list:\n",
    "    print(\"The collection exists.\")\n",
    "else:\n",
    "    print(\"The collection does not exists.\")"
   ]
  },
  {
   "cell_type": "markdown",
   "metadata": {},
   "source": [
    "## Insert"
   ]
  },
  {
   "cell_type": "code",
   "execution_count": 10,
   "metadata": {},
   "outputs": [],
   "source": [
    "import json"
   ]
  },
  {
   "cell_type": "code",
   "execution_count": 11,
   "metadata": {},
   "outputs": [],
   "source": [
    "with open('datasets/ProductListing.JSON') as outfile:\n",
    "    productlisting = json.load(outfile)"
   ]
  },
  {
   "cell_type": "code",
   "execution_count": 12,
   "metadata": {},
   "outputs": [
    {
     "data": {
      "text/plain": [
       "123"
      ]
     },
     "execution_count": 12,
     "metadata": {},
     "output_type": "execute_result"
    }
   ],
   "source": [
    "len(productlisting['ProductCollection'])"
   ]
  },
  {
   "cell_type": "code",
   "execution_count": 13,
   "metadata": {},
   "outputs": [],
   "source": [
    "#insert_many = productlisting['ProductCollection']"
   ]
  },
  {
   "cell_type": "code",
   "execution_count": 14,
   "metadata": {},
   "outputs": [],
   "source": [
    "#result_many = productlisting_col.insert_many(insert_many)"
   ]
  },
  {
   "cell_type": "markdown",
   "metadata": {},
   "source": [
    "## Count the number of documents"
   ]
  },
  {
   "cell_type": "code",
   "execution_count": 15,
   "metadata": {
    "scrolled": true
   },
   "outputs": [
    {
     "data": {
      "text/plain": [
       "123"
      ]
     },
     "execution_count": 15,
     "metadata": {},
     "output_type": "execute_result"
    }
   ],
   "source": [
    "productlisting_col.count_documents({})"
   ]
  },
  {
   "cell_type": "markdown",
   "metadata": {},
   "source": [
    "# Query"
   ]
  },
  {
   "cell_type": "markdown",
   "metadata": {},
   "source": [
    "### Where Condition"
   ]
  },
  {
   "cell_type": "code",
   "execution_count": 16,
   "metadata": {},
   "outputs": [],
   "source": [
    "myquery = { \"Category\": \"Laptops\" }"
   ]
  },
  {
   "cell_type": "code",
   "execution_count": 17,
   "metadata": {},
   "outputs": [],
   "source": [
    "res_query = productlisting_col.find(myquery)"
   ]
  },
  {
   "cell_type": "code",
   "execution_count": 18,
   "metadata": {},
   "outputs": [
    {
     "name": "stdout",
     "output_type": "stream",
     "text": [
      "{'_id': ObjectId('5d589deceaa0c7b7d09ed653'), 'ProductId': 'HT-1251', 'Category': 'Laptops', 'MainCategory': 'Computer Systems', 'TaxTarifCode': '1', 'SupplierName': 'Ultrasonic United', 'WeightMeasure': 4.2, 'WeightUnit': 'KG', 'Description': 'Flexible Laptop with 2,5 GHz Quad Core, 15\" HD TN, 16 GB DDR SDRAM, 256 GB SSD, Windows 10 Pro', 'Name': 'Astro Laptop 1516', 'ProductPicUrl': 'test-resources/sap/ui/demokit/explored/img/HT-1251.jpg', 'Status': 'Available', 'Quantity': 23, 'UoM': 'PC', 'CurrencyCode': 'EUR', 'Price': 989, 'Width': 30, 'Depth': 18, 'Height': 3, 'DimUnit': 'cm'}\n",
      "{'_id': ObjectId('5d589deceaa0c7b7d09ed655'), 'ProductId': 'HT-1253', 'Category': 'Laptops', 'MainCategory': 'Computer Systems', 'TaxTarifCode': '1', 'SupplierName': 'Ultrasonic United', 'WeightMeasure': 4.2, 'WeightUnit': 'KG', 'Description': 'Flexible Laptop with 2,5 GHz Dual Core, 14\" HD+ TN, 8 GB DDR SDRAM, 324 GB SSD, Windows 10 Pro', 'Name': 'Benda Laptop 1408', 'ProductPicUrl': 'test-resources/sap/ui/demokit/explored/img/HT-1253.jpg', 'Status': 'Available', 'Quantity': 27, 'UoM': 'PC', 'CurrencyCode': 'EUR', 'Price': 976, 'Width': 30, 'Depth': 18, 'Height': 3, 'DimUnit': 'cm'}\n"
     ]
    }
   ],
   "source": [
    "for data in res_query:\n",
    "    print(data)"
   ]
  },
  {
   "cell_type": "markdown",
   "metadata": {},
   "source": [
    "## Regex Condition"
   ]
  },
  {
   "cell_type": "code",
   "execution_count": 19,
   "metadata": {},
   "outputs": [],
   "source": [
    "reg_query = {\"Description\": { \"$regex\": \"^Note\" }}"
   ]
  },
  {
   "cell_type": "code",
   "execution_count": 20,
   "metadata": {},
   "outputs": [],
   "source": [
    "res_reg_query = productlisting_col.find(reg_query)"
   ]
  },
  {
   "cell_type": "code",
   "execution_count": 21,
   "metadata": {},
   "outputs": [
    {
     "name": "stdout",
     "output_type": "stream",
     "text": [
      "{'_id': ObjectId('5d589deceaa0c7b7d09ed5e0'), 'ProductId': 'HT-1000', 'Category': 'Notebook Computer', 'MainCategory': 'Computer Systems', 'TaxTarifCode': '1', 'SupplierName': 'Very Best Screens', 'WeightMeasure': 4.2, 'WeightUnit': 'KG', 'Description': 'Notebook Basic 15 with 2,80 GHz quad core, 15\" LCD, 4 GB DDR3 RAM, 500 GB Hard Disc, Windows 8 Pro', 'Name': 'Notebook Basic 15', 'DateOfSale': '2017-03-26', 'ProductPicUrl': 'test-resources/sap/ui/demokit/explored/img/HT-1000.jpg', 'Status': 'Available', 'Quantity': 10, 'UoM': 'PC', 'CurrencyCode': 'EUR', 'Price': 956, 'Width': 30, 'Depth': 18, 'Height': 3, 'DimUnit': 'cm'}\n",
      "{'_id': ObjectId('5d589deceaa0c7b7d09ed5e1'), 'ProductId': 'HT-1001', 'Category': 'Notebook Computer', 'MainCategory': 'Computer Systems', 'TaxTarifCode': '1', 'SupplierName': 'Very Best Screens', 'WeightMeasure': 4.5, 'WeightUnit': 'KG', 'Description': 'Notebook Basic 17 with 2,80 GHz quad core, 17\" LCD, 4 GB DDR3 RAM, 500 GB Hard Disc, Windows 8 Pro', 'Name': 'Notebook Basic 17', 'DateOfSale': '2017-04-17', 'ProductPicUrl': 'test-resources/sap/ui/demokit/explored/img/HT-1001.jpg', 'Status': 'Available', 'Quantity': 20, 'UoM': 'PC', 'CurrencyCode': 'EUR', 'Price': 1249, 'Width': 29, 'Depth': 17, 'Height': 3.1, 'DimUnit': 'cm'}\n",
      "{'_id': ObjectId('5d589deceaa0c7b7d09ed5e2'), 'ProductId': 'HT-1002', 'Category': 'Notebook Computer', 'MainCategory': 'Computer Systems', 'TaxTarifCode': '1', 'SupplierName': 'Very Best Screens', 'WeightMeasure': 4.2, 'WeightUnit': 'KG', 'Description': 'Notebook Basic 18 with 2,80 GHz quad core, 18\" LCD, 8 GB DDR3 RAM, 1000 GB Hard Disc, Windows 8 Pro', 'Name': 'Notebook Basic 18', 'DateOfSale': '2017-01-07', 'ProductPicUrl': 'test-resources/sap/ui/demokit/explored/img/HT-1002.jpg', 'Status': 'Available', 'Quantity': 10, 'UoM': 'PC', 'CurrencyCode': 'EUR', 'Price': 1570, 'Width': 28, 'Depth': 19, 'Height': 2.5, 'DimUnit': 'cm'}\n",
      "{'_id': ObjectId('5d589deceaa0c7b7d09ed5e3'), 'ProductId': 'HT-1003', 'Category': 'Notebook Computer', 'MainCategory': 'Computer Systems', 'TaxTarifCode': '1', 'SupplierName': 'Smartcards', 'WeightMeasure': 4.2, 'WeightUnit': 'KG', 'Description': 'Notebook Basic 19 with 2,80 GHz quad core, 19\" LCD, 8 GB DDR3 RAM, 1000 GB Hard Disc, Windows 8 Pro', 'Name': 'Notebook Basic 19', 'DateOfSale': '2017-04-09', 'ProductPicUrl': 'test-resources/sap/ui/demokit/explored/img/HT-1003.jpg', 'Status': 'Available', 'Quantity': 15, 'UoM': 'PC', 'CurrencyCode': 'EUR', 'Price': 1650, 'Width': 32, 'Depth': 21, 'Height': 4, 'DimUnit': 'cm'}\n",
      "{'_id': ObjectId('5d589deceaa0c7b7d09ed5e5'), 'ProductId': 'HT-1010', 'Category': 'Notebook Computer', 'MainCategory': 'Computer Systems', 'TaxTarifCode': '1', 'SupplierName': 'Very Best Screens', 'WeightMeasure': 4.3, 'WeightUnit': 'KG', 'Description': 'Notebook Professional 15 with 2,80 GHz quad core, 15\" Multitouch LCD, 8 GB DDR3 RAM, 500 GB SSD - DVD-Writer (DVD-R/+R/-RW/-RAM),Windows 8 Pro', 'Name': 'Notebook Professional 15', 'DateOfSale': '2017-02-22', 'ProductPicUrl': 'test-resources/sap/ui/demokit/explored/img/HT-1010.jpg', 'Status': 'Available', 'Quantity': 16, 'UoM': 'PC', 'CurrencyCode': 'EUR', 'Price': 1999, 'Width': 33, 'Depth': 20, 'Height': 3, 'DimUnit': 'cm'}\n",
      "{'_id': ObjectId('5d589deceaa0c7b7d09ed5e6'), 'ProductId': 'HT-1011', 'Category': 'Notebook Computer', 'MainCategory': 'Computer Systems', 'TaxTarifCode': '1', 'SupplierName': 'Very Best Screens', 'WeightMeasure': 4.1, 'WeightUnit': 'KG', 'Description': 'Notebook Professional 17 with 2,80 GHz quad core, 17\" Multitouch LCD, 8 GB DDR3 RAM, 500 GB SSD - DVD-Writer (DVD-R/+R/-RW/-RAM),Windows 8 Pro', 'Name': 'Notebook Professional 17', 'DateOfSale': '2017-01-02', 'ProductPicUrl': 'test-resources/sap/ui/demokit/explored/img/HT-1011.jpg', 'Status': 'Available', 'Quantity': 17, 'UoM': 'PC', 'CurrencyCode': 'EUR', 'Price': 2299, 'Width': 33, 'Depth': 23, 'Height': 2, 'DimUnit': 'cm'}\n",
      "{'_id': ObjectId('5d589deceaa0c7b7d09ed61b'), 'ProductId': 'HT-1114', 'Category': 'Notebook Computer', 'MainCategory': 'Computer Systems', 'TaxTarifCode': '1', 'SupplierName': 'Red Point Stores', 'WeightMeasure': 1.8, 'WeightUnit': 'KG', 'Description': 'Notebook bag, plenty of room for stationery and writing materials', 'Name': 'Fabric bag professional', 'ProductPicUrl': 'test-resources/sap/ui/demokit/explored/img/HT-1114.jpg', 'Status': 'Available', 'Quantity': 14, 'UoM': 'PC', 'CurrencyCode': 'EUR', 'Price': 31, 'Width': 42, 'Depth': 32, 'Height': 7, 'DimUnit': 'cm'}\n",
      "{'_id': ObjectId('5d589deceaa0c7b7d09ed645'), 'ProductId': 'HT-8000', 'Category': 'Notebook Computer', 'MainCategory': 'Computer Systems', 'TaxTarifCode': '1', 'SupplierName': 'Titanium', 'WeightMeasure': 4, 'WeightUnit': 'KG', 'Description': 'Notebook with 2,80 GHz dual core, 4 GB DDR3 SDRAM, 500 GB Hard Disc, Windows 8', 'Name': 'ITelO FlexTop I4000', 'ProductPicUrl': 'test-resources/sap/ui/demokit/explored/img/HT-8000.jpg', 'Status': 'Available', 'Quantity': 11, 'UoM': 'PC', 'CurrencyCode': 'EUR', 'Price': 799, 'Width': 31, 'Depth': 19, 'Height': 3.1, 'DimUnit': 'cm'}\n",
      "{'_id': ObjectId('5d589deceaa0c7b7d09ed646'), 'ProductId': 'HT-8001', 'Category': 'Notebook Computer', 'MainCategory': 'Computer Systems', 'TaxTarifCode': '1', 'SupplierName': 'Titanium', 'WeightMeasure': 4.2, 'WeightUnit': 'KG', 'Description': 'Notebook with 2,80 GHz dual core, 8 GB DDR3 SDRAM, 500 GB Hard Disc, Windows 8', 'Name': 'ITelO FlexTop I6300c', 'ProductPicUrl': 'test-resources/sap/ui/demokit/explored/img/HT-8001.jpg', 'Status': 'Available', 'Quantity': 20, 'UoM': 'PC', 'CurrencyCode': 'EUR', 'Price': 799, 'Width': 32, 'Depth': 20, 'Height': 3.4, 'DimUnit': 'cm'}\n",
      "{'_id': ObjectId('5d589deceaa0c7b7d09ed647'), 'ProductId': 'HT-8002', 'Category': 'Notebook Computer', 'MainCategory': 'Computer Systems', 'TaxTarifCode': '1', 'SupplierName': 'Titanium', 'WeightMeasure': 3.5, 'WeightUnit': 'KG', 'Description': 'Notebook with 2,80 GHz quad core, 4 GB DDR3 SDRAM, 1000 GB Hard Disc, Windows 8', 'Name': 'ITelO FlexTop I9100', 'ProductPicUrl': 'test-resources/sap/ui/demokit/explored/img/HT-8002.jpg', 'Status': 'Available', 'Quantity': 20, 'UoM': 'PC', 'CurrencyCode': 'EUR', 'Price': 1199, 'Width': 38, 'Depth': 21, 'Height': 4.1, 'DimUnit': 'cm'}\n",
      "{'_id': ObjectId('5d589deceaa0c7b7d09ed648'), 'ProductId': 'HT-8003', 'Category': 'Notebook Computer', 'MainCategory': 'Computer Systems', 'TaxTarifCode': '1', 'SupplierName': 'Titanium', 'WeightMeasure': 3.8, 'WeightUnit': 'KG', 'Description': 'Notebook with 2,80 GHz quad core, 8 GB DDR3 SDRAM, 1000 GB Hard Disc, Windows 8', 'Name': 'ITelO FlexTop I9800', 'ProductPicUrl': 'test-resources/sap/ui/demokit/explored/img/HT-8003.jpg', 'Status': 'Available', 'Quantity': 22, 'UoM': 'PC', 'CurrencyCode': 'EUR', 'Price': 1388, 'Width': 48, 'Depth': 31, 'Height': 4.5, 'DimUnit': 'cm'}\n"
     ]
    }
   ],
   "source": [
    "for data in res_reg_query:\n",
    "    print(data)"
   ]
  },
  {
   "cell_type": "markdown",
   "metadata": {},
   "source": [
    "## Using Query Operators"
   ]
  },
  {
   "cell_type": "code",
   "execution_count": 22,
   "metadata": {},
   "outputs": [],
   "source": [
    "in_query = {\"WeightMeasure\": { \"$in\": [3.5,4,4.5] }}"
   ]
  },
  {
   "cell_type": "code",
   "execution_count": 23,
   "metadata": {},
   "outputs": [],
   "source": [
    "res_in_query = productlisting_col.find(in_query)"
   ]
  },
  {
   "cell_type": "code",
   "execution_count": 24,
   "metadata": {},
   "outputs": [
    {
     "name": "stdout",
     "output_type": "stream",
     "text": [
      "{'_id': ObjectId('5d589deceaa0c7b7d09ed5e1'), 'ProductId': 'HT-1001', 'Category': 'Notebook Computer', 'MainCategory': 'Computer Systems', 'TaxTarifCode': '1', 'SupplierName': 'Very Best Screens', 'WeightMeasure': 4.5, 'WeightUnit': 'KG', 'Description': 'Notebook Basic 17 with 2,80 GHz quad core, 17\" LCD, 4 GB DDR3 RAM, 500 GB Hard Disc, Windows 8 Pro', 'Name': 'Notebook Basic 17', 'DateOfSale': '2017-04-17', 'ProductPicUrl': 'test-resources/sap/ui/demokit/explored/img/HT-1001.jpg', 'Status': 'Available', 'Quantity': 20, 'UoM': 'PC', 'CurrencyCode': 'EUR', 'Price': 1249, 'Width': 29, 'Depth': 17, 'Height': 3.1, 'DimUnit': 'cm'}\n",
      "{'_id': ObjectId('5d589deceaa0c7b7d09ed645'), 'ProductId': 'HT-8000', 'Category': 'Notebook Computer', 'MainCategory': 'Computer Systems', 'TaxTarifCode': '1', 'SupplierName': 'Titanium', 'WeightMeasure': 4, 'WeightUnit': 'KG', 'Description': 'Notebook with 2,80 GHz dual core, 4 GB DDR3 SDRAM, 500 GB Hard Disc, Windows 8', 'Name': 'ITelO FlexTop I4000', 'ProductPicUrl': 'test-resources/sap/ui/demokit/explored/img/HT-8000.jpg', 'Status': 'Available', 'Quantity': 11, 'UoM': 'PC', 'CurrencyCode': 'EUR', 'Price': 799, 'Width': 31, 'Depth': 19, 'Height': 3.1, 'DimUnit': 'cm'}\n",
      "{'_id': ObjectId('5d589deceaa0c7b7d09ed647'), 'ProductId': 'HT-8002', 'Category': 'Notebook Computer', 'MainCategory': 'Computer Systems', 'TaxTarifCode': '1', 'SupplierName': 'Titanium', 'WeightMeasure': 3.5, 'WeightUnit': 'KG', 'Description': 'Notebook with 2,80 GHz quad core, 4 GB DDR3 SDRAM, 1000 GB Hard Disc, Windows 8', 'Name': 'ITelO FlexTop I9100', 'ProductPicUrl': 'test-resources/sap/ui/demokit/explored/img/HT-8002.jpg', 'Status': 'Available', 'Quantity': 20, 'UoM': 'PC', 'CurrencyCode': 'EUR', 'Price': 1199, 'Width': 38, 'Depth': 21, 'Height': 4.1, 'DimUnit': 'cm'}\n"
     ]
    }
   ],
   "source": [
    "for data in res_in_query:\n",
    "    print(data)"
   ]
  },
  {
   "cell_type": "markdown",
   "metadata": {},
   "source": [
    "### Greater Than Condition"
   ]
  },
  {
   "cell_type": "code",
   "execution_count": 25,
   "metadata": {},
   "outputs": [],
   "source": [
    "greater_query = { 'Price': { '$gt': 1200 }}"
   ]
  },
  {
   "cell_type": "code",
   "execution_count": 26,
   "metadata": {},
   "outputs": [],
   "source": [
    "res_greater_query = productlisting_col.find(greater_query)"
   ]
  },
  {
   "cell_type": "code",
   "execution_count": 27,
   "metadata": {},
   "outputs": [
    {
     "data": {
      "text/plain": [
       "<pymongo.cursor.Cursor at 0x21f2856aeb8>"
      ]
     },
     "execution_count": 27,
     "metadata": {},
     "output_type": "execute_result"
    }
   ],
   "source": [
    "res_greater_query"
   ]
  },
  {
   "cell_type": "code",
   "execution_count": 28,
   "metadata": {},
   "outputs": [
    {
     "name": "stdout",
     "output_type": "stream",
     "text": [
      "{'_id': ObjectId('5d589deceaa0c7b7d09ed5e1'), 'ProductId': 'HT-1001', 'Category': 'Notebook Computer', 'MainCategory': 'Computer Systems', 'TaxTarifCode': '1', 'SupplierName': 'Very Best Screens', 'WeightMeasure': 4.5, 'WeightUnit': 'KG', 'Description': 'Notebook Basic 17 with 2,80 GHz quad core, 17\" LCD, 4 GB DDR3 RAM, 500 GB Hard Disc, Windows 8 Pro', 'Name': 'Notebook Basic 17', 'DateOfSale': '2017-04-17', 'ProductPicUrl': 'test-resources/sap/ui/demokit/explored/img/HT-1001.jpg', 'Status': 'Available', 'Quantity': 20, 'UoM': 'PC', 'CurrencyCode': 'EUR', 'Price': 1249, 'Width': 29, 'Depth': 17, 'Height': 3.1, 'DimUnit': 'cm'}\n",
      "{'_id': ObjectId('5d589deceaa0c7b7d09ed5e2'), 'ProductId': 'HT-1002', 'Category': 'Notebook Computer', 'MainCategory': 'Computer Systems', 'TaxTarifCode': '1', 'SupplierName': 'Very Best Screens', 'WeightMeasure': 4.2, 'WeightUnit': 'KG', 'Description': 'Notebook Basic 18 with 2,80 GHz quad core, 18\" LCD, 8 GB DDR3 RAM, 1000 GB Hard Disc, Windows 8 Pro', 'Name': 'Notebook Basic 18', 'DateOfSale': '2017-01-07', 'ProductPicUrl': 'test-resources/sap/ui/demokit/explored/img/HT-1002.jpg', 'Status': 'Available', 'Quantity': 10, 'UoM': 'PC', 'CurrencyCode': 'EUR', 'Price': 1570, 'Width': 28, 'Depth': 19, 'Height': 2.5, 'DimUnit': 'cm'}\n",
      "{'_id': ObjectId('5d589deceaa0c7b7d09ed5e3'), 'ProductId': 'HT-1003', 'Category': 'Notebook Computer', 'MainCategory': 'Computer Systems', 'TaxTarifCode': '1', 'SupplierName': 'Smartcards', 'WeightMeasure': 4.2, 'WeightUnit': 'KG', 'Description': 'Notebook Basic 19 with 2,80 GHz quad core, 19\" LCD, 8 GB DDR3 RAM, 1000 GB Hard Disc, Windows 8 Pro', 'Name': 'Notebook Basic 19', 'DateOfSale': '2017-04-09', 'ProductPicUrl': 'test-resources/sap/ui/demokit/explored/img/HT-1003.jpg', 'Status': 'Available', 'Quantity': 15, 'UoM': 'PC', 'CurrencyCode': 'EUR', 'Price': 1650, 'Width': 32, 'Depth': 21, 'Height': 4, 'DimUnit': 'cm'}\n",
      "{'_id': ObjectId('5d589deceaa0c7b7d09ed5e5'), 'ProductId': 'HT-1010', 'Category': 'Notebook Computer', 'MainCategory': 'Computer Systems', 'TaxTarifCode': '1', 'SupplierName': 'Very Best Screens', 'WeightMeasure': 4.3, 'WeightUnit': 'KG', 'Description': 'Notebook Professional 15 with 2,80 GHz quad core, 15\" Multitouch LCD, 8 GB DDR3 RAM, 500 GB SSD - DVD-Writer (DVD-R/+R/-RW/-RAM),Windows 8 Pro', 'Name': 'Notebook Professional 15', 'DateOfSale': '2017-02-22', 'ProductPicUrl': 'test-resources/sap/ui/demokit/explored/img/HT-1010.jpg', 'Status': 'Available', 'Quantity': 16, 'UoM': 'PC', 'CurrencyCode': 'EUR', 'Price': 1999, 'Width': 33, 'Depth': 20, 'Height': 3, 'DimUnit': 'cm'}\n",
      "{'_id': ObjectId('5d589deceaa0c7b7d09ed5e6'), 'ProductId': 'HT-1011', 'Category': 'Notebook Computer', 'MainCategory': 'Computer Systems', 'TaxTarifCode': '1', 'SupplierName': 'Very Best Screens', 'WeightMeasure': 4.1, 'WeightUnit': 'KG', 'Description': 'Notebook Professional 17 with 2,80 GHz quad core, 17\" Multitouch LCD, 8 GB DDR3 RAM, 500 GB SSD - DVD-Writer (DVD-R/+R/-RW/-RAM),Windows 8 Pro', 'Name': 'Notebook Professional 17', 'DateOfSale': '2017-01-02', 'ProductPicUrl': 'test-resources/sap/ui/demokit/explored/img/HT-1011.jpg', 'Status': 'Available', 'Quantity': 17, 'UoM': 'PC', 'CurrencyCode': 'EUR', 'Price': 2299, 'Width': 33, 'Depth': 23, 'Height': 2, 'DimUnit': 'cm'}\n",
      "{'_id': ObjectId('5d589deceaa0c7b7d09ed5e9'), 'ProductId': 'HT-1022', 'Category': 'Accessories', 'MainCategory': 'Computer Components', 'TaxTarifCode': '1', 'SupplierName': 'Technocom', 'WeightMeasure': 0.2, 'WeightUnit': 'KG', 'Description': '32 GB Digital Assistant with high-resolution color screen', 'Name': 'Comfort Easy', 'DateOfSale': '2017-03-02', 'ProductPicUrl': 'test-resources/sap/ui/demokit/explored/img/HT-1022.jpg', 'Status': 'Available', 'Quantity': 30, 'UoM': 'PC', 'CurrencyCode': 'EUR', 'Price': 1679, 'Width': 84, 'Depth': 1.5, 'Height': 14, 'DimUnit': 'cm'}\n",
      "{'_id': ObjectId('5d589deceaa0c7b7d09ed5f0'), 'ProductId': 'HT-1037', 'Category': 'Flat Screen Monitors', 'MainCategory': 'Computer Components', 'TaxTarifCode': '1', 'SupplierName': 'Very Best Screens', 'WeightMeasure': 17, 'WeightUnit': 'KG', 'Description': 'Optimum Hi-Resolution max. 2016 x 1512 @ 85Hz, Dot Pitch: 0.24mm', 'Name': 'Flat XL', 'ProductPicUrl': 'test-resources/sap/ui/demokit/explored/img/HT-1037.jpg', 'Status': 'Available', 'Quantity': 23, 'UoM': 'PC', 'CurrencyCode': 'EUR', 'Price': 1230, 'Width': 54.5, 'Depth': 22.1, 'Height': 39.1, 'DimUnit': 'cm'}\n",
      "{'_id': ObjectId('5d589deceaa0c7b7d09ed60b'), 'ProductId': 'HT-1085', 'Category': 'Multifunction Printers', 'MainCategory': 'Printers & Scanners', 'TaxTarifCode': '1', 'SupplierName': 'Alpha Printers', 'WeightMeasure': 23.2, 'WeightUnit': 'KG', 'Description': 'Copymaster', 'Name': 'Copymaster', 'ProductPicUrl': 'test-resources/sap/ui/demokit/explored/img/HT-1085.jpg', 'Status': 'Available', 'Quantity': 10, 'UoM': 'PC', 'CurrencyCode': 'EUR', 'Price': 1499, 'Width': 45, 'Depth': 42, 'Height': 22, 'DimUnit': 'cm'}\n",
      "{'_id': ObjectId('5d589deceaa0c7b7d09ed621'), 'ProductId': 'HT-1137', 'Category': 'Flat Screen Monitors', 'MainCategory': 'Computer Components', 'TaxTarifCode': '1', 'SupplierName': 'Technocom', 'WeightMeasure': 18, 'WeightUnit': 'KG', 'Description': 'Optimum Hi-Resolution max. 2048 Ã— 1536 @ 85Hz, Dot Pitch: 0.24mm', 'Name': 'Flat XXL', 'ProductPicUrl': 'test-resources/sap/ui/demokit/explored/img/HT-1137.jpg', 'Status': 'Available', 'Quantity': 10, 'UoM': 'PC', 'CurrencyCode': 'EUR', 'Price': 1430, 'Width': 54, 'Depth': 22, 'Height': 38, 'DimUnit': 'cm'}\n",
      "{'_id': ObjectId('5d589deceaa0c7b7d09ed623'), 'ProductId': 'HT-1210', 'Category': 'PCs', 'MainCategory': 'Computer Systems', 'TaxTarifCode': '1', 'SupplierName': 'Technocom', 'WeightMeasure': 2.3, 'WeightUnit': 'KG', 'Description': 'PC Power Station with 3,4 Ghz quad-core, 32 GB DDR3 SDRAM, feels like Available PC, Windows 8 Pro', 'Name': 'PC Power Station', 'ProductPicUrl': 'test-resources/sap/ui/demokit/explored/img/HT-1210.jpg', 'Status': 'Available', 'Quantity': 22, 'UoM': 'PC', 'CurrencyCode': 'EUR', 'Price': 2399, 'Width': 28, 'Depth': 31, 'Height': 43, 'DimUnit': 'cm'}\n",
      "{'_id': ObjectId('5d589deceaa0c7b7d09ed624'), 'ProductId': 'HT-1500', 'Category': 'Servers', 'MainCategory': 'Computer Systems', 'TaxTarifCode': '1', 'SupplierName': 'Technocom', 'WeightMeasure': 18, 'WeightUnit': 'KG', 'Description': 'Dual socket, quad-core processing server with 1333 MHz Front Side Bus with 10Gb connectivity', 'Name': 'Server Basic', 'ProductPicUrl': 'test-resources/sap/ui/demokit/explored/img/HT-1500.jpg', 'Status': 'Available', 'Quantity': 24, 'UoM': 'PC', 'CurrencyCode': 'EUR', 'Price': 5000, 'Width': 34, 'Depth': 35, 'Height': 23, 'DimUnit': 'cm'}\n",
      "{'_id': ObjectId('5d589deceaa0c7b7d09ed625'), 'ProductId': 'HT-1501', 'Category': 'Servers', 'MainCategory': 'Computer Systems', 'TaxTarifCode': '1', 'SupplierName': 'Technocom', 'WeightMeasure': 25, 'WeightUnit': 'KG', 'Description': 'Dual socket, quad-core processing server with 1644 MHz Front Side Bus with 10Gb connectivity', 'Name': 'Server Professional', 'ProductPicUrl': 'test-resources/sap/ui/demokit/explored/img/HT-1501.jpg', 'Status': 'Available', 'Quantity': 26, 'UoM': 'PC', 'CurrencyCode': 'EUR', 'Price': 15000, 'Width': 29, 'Depth': 30, 'Height': 27, 'DimUnit': 'cm'}\n",
      "{'_id': ObjectId('5d589deceaa0c7b7d09ed626'), 'ProductId': 'HT-1502', 'Category': 'Servers', 'MainCategory': 'Computer Systems', 'TaxTarifCode': '1', 'SupplierName': 'Technocom', 'WeightMeasure': 35, 'WeightUnit': 'KG', 'Description': 'Dual socket, quad-core processing server with 1644 MHz Front Side Bus with 100Gb connectivity', 'Name': 'Server Power Pro', 'ProductPicUrl': 'test-resources/sap/ui/demokit/explored/img/HT-1502.jpg', 'Status': 'Available', 'Quantity': 34, 'UoM': 'PC', 'CurrencyCode': 'EUR', 'Price': 25000, 'Width': 22, 'Depth': 27.3, 'Height': 37, 'DimUnit': 'cm'}\n",
      "{'_id': ObjectId('5d589deceaa0c7b7d09ed627'), 'ProductId': 'HT-6130', 'Category': 'Flat Screen TVs', 'MainCategory': 'TV, Video & HiFi', 'TaxTarifCode': '1', 'SupplierName': 'Very Best Screens', 'WeightMeasure': 2.6, 'WeightUnit': 'KG', 'Description': '32-inch, 1366x768 Pixel, 16:9, HDTV ready', 'Name': 'Flat Watch HD32', 'ProductPicUrl': 'test-resources/sap/ui/demokit/explored/img/HT-6130.jpg', 'Status': 'Available', 'Quantity': 16, 'UoM': 'PC', 'CurrencyCode': 'EUR', 'Price': 1459, 'Width': 78, 'Depth': 22.1, 'Height': 55, 'DimUnit': 'cm'}\n",
      "{'_id': ObjectId('5d589deceaa0c7b7d09ed640'), 'ProductId': 'HT-1603', 'Category': 'Desktop Computers', 'MainCategory': 'Computer Systems', 'TaxTarifCode': '1', 'SupplierName': 'Titanium', 'WeightMeasure': 6.8, 'WeightUnit': 'KG', 'Description': '3,4 Ghz quad core, 16 GB DDR3 SDRAM, 4000 GB Hard Disc, Graphic Card: Hurricane GX, Windows 8', 'Name': 'Gaming Monster Pro', 'ProductPicUrl': 'test-resources/sap/ui/demokit/explored/img/HT-1603.jpg', 'Status': 'Available', 'Quantity': 25, 'UoM': 'PC', 'CurrencyCode': 'EUR', 'Price': 1700, 'Width': 27, 'Depth': 28, 'Height': 42, 'DimUnit': 'cm'}\n",
      "{'_id': ObjectId('5d589deceaa0c7b7d09ed648'), 'ProductId': 'HT-8003', 'Category': 'Notebook Computer', 'MainCategory': 'Computer Systems', 'TaxTarifCode': '1', 'SupplierName': 'Titanium', 'WeightMeasure': 3.8, 'WeightUnit': 'KG', 'Description': 'Notebook with 2,80 GHz quad core, 8 GB DDR3 SDRAM, 1000 GB Hard Disc, Windows 8', 'Name': 'ITelO FlexTop I9800', 'ProductPicUrl': 'test-resources/sap/ui/demokit/explored/img/HT-8003.jpg', 'Status': 'Available', 'Quantity': 22, 'UoM': 'PC', 'CurrencyCode': 'EUR', 'Price': 1388, 'Width': 48, 'Depth': 31, 'Height': 4.5, 'DimUnit': 'cm'}\n",
      "{'_id': ObjectId('5d589deceaa0c7b7d09ed64f'), 'ProductId': 'HT-9994', 'Category': 'Accessories', 'MainCategory': 'TV, Video & HiFi', 'TaxTarifCode': '1', 'SupplierName': 'Ultrasonic United', 'WeightMeasure': 3.8, 'WeightUnit': 'KG', 'Description': '1920x1080 Full HD, image stabilization reduces blur, 27x Optical / 32x Extended Zoom, wide angle Lens, 2.7\" wide LCD display', 'Name': 'Camcorder View', 'ProductPicUrl': 'test-resources/sap/ui/demokit/explored/img/HT-9994.jpg', 'Status': 'Available', 'Quantity': 50, 'UoM': 'PC', 'CurrencyCode': 'EUR', 'Price': 1388, 'Width': 48, 'Depth': 31, 'Height': 27, 'DimUnit': 'cm'}\n"
     ]
    }
   ],
   "source": [
    "for data in res_greater_query:\n",
    "    print(data)"
   ]
  },
  {
   "cell_type": "markdown",
   "metadata": {},
   "source": [
    "### And Condition"
   ]
  },
  {
   "cell_type": "code",
   "execution_count": 29,
   "metadata": {},
   "outputs": [],
   "source": [
    "and_query = {'SupplierName':'Titanium','Status':'Available','Price': { '$gt': 1500 }}"
   ]
  },
  {
   "cell_type": "code",
   "execution_count": 30,
   "metadata": {},
   "outputs": [],
   "source": [
    "res_and_query = productlisting_col.find(and_query)"
   ]
  },
  {
   "cell_type": "code",
   "execution_count": 31,
   "metadata": {},
   "outputs": [
    {
     "name": "stdout",
     "output_type": "stream",
     "text": [
      "{'_id': ObjectId('5d589deceaa0c7b7d09ed640'), 'ProductId': 'HT-1603', 'Category': 'Desktop Computers', 'MainCategory': 'Computer Systems', 'TaxTarifCode': '1', 'SupplierName': 'Titanium', 'WeightMeasure': 6.8, 'WeightUnit': 'KG', 'Description': '3,4 Ghz quad core, 16 GB DDR3 SDRAM, 4000 GB Hard Disc, Graphic Card: Hurricane GX, Windows 8', 'Name': 'Gaming Monster Pro', 'ProductPicUrl': 'test-resources/sap/ui/demokit/explored/img/HT-1603.jpg', 'Status': 'Available', 'Quantity': 25, 'UoM': 'PC', 'CurrencyCode': 'EUR', 'Price': 1700, 'Width': 27, 'Depth': 28, 'Height': 42, 'DimUnit': 'cm'}\n"
     ]
    }
   ],
   "source": [
    "for data in res_and_query:\n",
    "    print(data)"
   ]
  },
  {
   "cell_type": "markdown",
   "metadata": {},
   "source": [
    "### Or Condition"
   ]
  },
  {
   "cell_type": "code",
   "execution_count": 32,
   "metadata": {},
   "outputs": [],
   "source": [
    "or_query = {'$or': [ { 'SupplierName': \"Titanium\"} ,{'SupplierName': 'Ultrasonic United'}]}"
   ]
  },
  {
   "cell_type": "code",
   "execution_count": 33,
   "metadata": {},
   "outputs": [],
   "source": [
    "res_or_query = productlisting_col.find(or_query)"
   ]
  },
  {
   "cell_type": "code",
   "execution_count": 34,
   "metadata": {},
   "outputs": [
    {
     "name": "stdout",
     "output_type": "stream",
     "text": [
      "{'_id': ObjectId('5d589deceaa0c7b7d09ed603'), 'ProductId': 'HT-1070', 'Category': 'Graphic Cards', 'MainCategory': 'Computer Components', 'TaxTarifCode': '1', 'SupplierName': 'Ultrasonic United', 'WeightMeasure': 0.255, 'WeightUnit': 'KG', 'Description': 'Proctra X: PCI-E GDDR5 3072MB', 'Name': 'Proctra X', 'ProductPicUrl': 'test-resources/sap/ui/demokit/explored/img/HT-1070.jpg', 'Status': 'Available', 'Quantity': 15, 'UoM': 'PC', 'CurrencyCode': 'EUR', 'Price': 70.9, 'Width': 22, 'Depth': 35, 'Height': 17, 'DimUnit': 'cm'}\n",
      "{'_id': ObjectId('5d589deceaa0c7b7d09ed604'), 'ProductId': 'HT-1071', 'Category': 'Graphic Cards', 'MainCategory': 'Computer Components', 'TaxTarifCode': '1', 'SupplierName': 'Ultrasonic United', 'WeightMeasure': 0.3, 'WeightUnit': 'KG', 'Description': 'Gladiator XLN: PCI-E GDDR5 3072MB DVI Out, TV Out low-noise', 'Name': 'Gladiator MX', 'ProductPicUrl': 'test-resources/sap/ui/demokit/explored/img/HT-1071.jpg', 'Status': 'Available', 'Quantity': 16, 'UoM': 'PC', 'CurrencyCode': 'EUR', 'Price': 81.7, 'Width': 22, 'Depth': 35, 'Height': 17, 'DimUnit': 'cm'}\n",
      "{'_id': ObjectId('5d589deceaa0c7b7d09ed605'), 'ProductId': 'HT-1072', 'Category': 'Graphic Cards', 'MainCategory': 'Computer Components', 'TaxTarifCode': '1', 'SupplierName': 'Ultrasonic United', 'WeightMeasure': 0.4, 'WeightUnit': 'KG', 'Description': 'Hurricane GX: PCI-E 691 GFLOPS game-optimized', 'Name': 'Hurricane GX', 'ProductPicUrl': 'test-resources/sap/ui/demokit/explored/img/HT-1072.jpg', 'Status': 'Available', 'Quantity': 13, 'UoM': 'PC', 'CurrencyCode': 'EUR', 'Price': 101.2, 'Width': 22, 'Depth': 35, 'Height': 17, 'DimUnit': 'cm'}\n",
      "{'_id': ObjectId('5d589deceaa0c7b7d09ed63a'), 'ProductId': 'HT-6100', 'Category': 'Accessories', 'MainCategory': 'TV, Video & HiFi', 'TaxTarifCode': '1', 'SupplierName': 'Titanium', 'WeightMeasure': 1.7, 'WeightUnit': 'KG', 'Description': '720p, DLP Projector max. 8,45 Meter, 2D', 'Name': 'Beam Breaker B-1', 'ProductPicUrl': 'test-resources/sap/ui/demokit/explored/img/HT-6100.jpg', 'Status': 'Available', 'Quantity': 32, 'UoM': 'PC', 'CurrencyCode': 'EUR', 'Price': 469, 'Width': 30.4, 'Depth': 23.1, 'Height': 23, 'DimUnit': 'cm'}\n",
      "{'_id': ObjectId('5d589deceaa0c7b7d09ed63b'), 'ProductId': 'HT-2027', 'Category': 'Accessories', 'MainCategory': 'Computer Systems', 'TaxTarifCode': '1', 'SupplierName': 'Titanium', 'WeightMeasure': 0.15, 'WeightUnit': 'KG', 'Description': 'Removable jewel case labels, zero residues (100)', 'Name': 'Removable CD/DVD Laser Labels', 'ProductPicUrl': 'test-resources/sap/ui/demokit/explored/img/HT-2027.jpg', 'Status': 'Available', 'Quantity': 25, 'UoM': 'PC', 'CurrencyCode': 'EUR', 'Price': 8.99, 'Width': 5.5, 'Depth': 2, 'Height': 2, 'DimUnit': 'cm'}\n",
      "{'_id': ObjectId('5d589deceaa0c7b7d09ed63c'), 'ProductId': 'HT-2026', 'Category': 'Accessories', 'MainCategory': 'Computer Systems', 'TaxTarifCode': '1', 'SupplierName': 'Titanium', 'WeightMeasure': 0.2, 'WeightUnit': 'KG', 'Description': 'Quality cables for notebooks and projectors', 'Name': 'Audio/Video Cable Kit - 4m', 'ProductPicUrl': 'test-resources/sap/ui/demokit/explored/img/HT-2026.jpg', 'Status': 'Available', 'Quantity': 16, 'UoM': 'PC', 'CurrencyCode': 'EUR', 'Price': 29.99, 'Width': 21, 'Depth': 10.2, 'Height': 13, 'DimUnit': 'cm'}\n",
      "{'_id': ObjectId('5d589deceaa0c7b7d09ed63d'), 'ProductId': 'HT-2025', 'Category': 'Accessories', 'MainCategory': 'Computer Systems', 'TaxTarifCode': '1', 'SupplierName': 'Titanium', 'WeightMeasure': 0.65, 'WeightUnit': 'KG', 'Description': 'Organizer and protective case for 264 CDs and DVDs', 'Name': 'CD/DVD case: 264 sleeves', 'ProductPicUrl': 'test-resources/sap/ui/demokit/explored/img/HT-2025.jpg', 'Status': 'Available', 'Quantity': 26, 'UoM': 'PC', 'CurrencyCode': 'EUR', 'Price': 44.99, 'Width': 13, 'Depth': 13, 'Height': 20, 'DimUnit': 'cm'}\n",
      "{'_id': ObjectId('5d589deceaa0c7b7d09ed63e'), 'ProductId': 'HT-2001', 'Category': 'Accessories', 'MainCategory': 'TV, Video & HiFi', 'TaxTarifCode': '1', 'SupplierName': 'Titanium', 'WeightMeasure': 0.84, 'WeightUnit': 'KG', 'Description': '10\" LCD Screen, storage battery holds up to 8 hours', 'Name': '10\" Portable DVD player', 'ProductPicUrl': 'test-resources/sap/ui/demokit/explored/img/HT-2001.jpg', 'Status': 'Available', 'Quantity': 21, 'UoM': 'PC', 'CurrencyCode': 'EUR', 'Price': 449.99, 'Width': 24, 'Depth': 19.5, 'Height': 29, 'DimUnit': 'cm'}\n",
      "{'_id': ObjectId('5d589deceaa0c7b7d09ed63f'), 'ProductId': 'HT-2000', 'Category': 'Accessories', 'MainCategory': 'TV, Video & HiFi', 'TaxTarifCode': '1', 'SupplierName': 'Titanium', 'WeightMeasure': 0.79, 'WeightUnit': 'KG', 'Description': '7\" LCD Screen, storage battery holds up to 6 hours!', 'Name': '7\" Widescreen Portable DVD Player w MP3', 'ProductPicUrl': 'test-resources/sap/ui/demokit/explored/img/HT-2000.jpg', 'Status': 'Available', 'Quantity': 20, 'UoM': 'PC', 'CurrencyCode': 'EUR', 'Price': 249.99, 'Width': 21.4, 'Depth': 19, 'Height': 27.6, 'DimUnit': 'cm'}\n",
      "{'_id': ObjectId('5d589deceaa0c7b7d09ed640'), 'ProductId': 'HT-1603', 'Category': 'Desktop Computers', 'MainCategory': 'Computer Systems', 'TaxTarifCode': '1', 'SupplierName': 'Titanium', 'WeightMeasure': 6.8, 'WeightUnit': 'KG', 'Description': '3,4 Ghz quad core, 16 GB DDR3 SDRAM, 4000 GB Hard Disc, Graphic Card: Hurricane GX, Windows 8', 'Name': 'Gaming Monster Pro', 'ProductPicUrl': 'test-resources/sap/ui/demokit/explored/img/HT-1603.jpg', 'Status': 'Available', 'Quantity': 25, 'UoM': 'PC', 'CurrencyCode': 'EUR', 'Price': 1700, 'Width': 27, 'Depth': 28, 'Height': 42, 'DimUnit': 'cm'}\n",
      "{'_id': ObjectId('5d589deceaa0c7b7d09ed641'), 'ProductId': 'HT-1602', 'Category': 'Desktop Computers', 'MainCategory': 'Computer Systems', 'TaxTarifCode': '1', 'SupplierName': 'Titanium', 'WeightMeasure': 5.9, 'WeightUnit': 'KG', 'Description': '3,4 Ghz quad core, 8 GB DDR3 SDRAM, 2000 GB Hard Disc, Graphic Card: Gladiator MX, Windows 8', 'Name': 'Gaming Monster', 'ProductPicUrl': 'test-resources/sap/ui/demokit/explored/img/HT-1602.jpg', 'Status': 'Available', 'Quantity': 24, 'UoM': 'PC', 'CurrencyCode': 'EUR', 'Price': 1200, 'Width': 26.5, 'Depth': 34, 'Height': 47, 'DimUnit': 'cm'}\n",
      "{'_id': ObjectId('5d589deceaa0c7b7d09ed642'), 'ProductId': 'HT-1601', 'Category': 'Desktop Computers', 'MainCategory': 'Computer Systems', 'TaxTarifCode': '1', 'SupplierName': 'Titanium', 'WeightMeasure': 5.3, 'WeightUnit': 'KG', 'Description': '2,8 Ghz dual core, 4 GB DDR3 SDRAM, 1000 GB Hard Disc, Graphic Card: Gladiator MX, Windows 8', 'Name': 'Family PC Pro', 'ProductPicUrl': 'test-resources/sap/ui/demokit/explored/img/HT-1601.jpg', 'Status': 'Available', 'Quantity': 20, 'UoM': 'PC', 'CurrencyCode': 'EUR', 'Price': 900, 'Width': 25, 'Depth': 31.7, 'Height': 40.2, 'DimUnit': 'cm'}\n",
      "{'_id': ObjectId('5d589deceaa0c7b7d09ed643'), 'ProductId': 'HT-1600', 'Category': 'Desktop Computers', 'MainCategory': 'Computer Systems', 'TaxTarifCode': '1', 'SupplierName': 'Titanium', 'WeightMeasure': 4.8, 'WeightUnit': 'KG', 'Description': '2,8 Ghz dual core, 4 GB DDR3 SDRAM, 500 GB Hard Disc, Graphic Card: Proctra X, Windows 8', 'Name': 'Family PC Basic', 'ProductPicUrl': 'test-resources/sap/ui/demokit/explored/img/HT-1600.jpg', 'Status': 'Available', 'Quantity': 10, 'UoM': 'PC', 'CurrencyCode': 'EUR', 'Price': 600, 'Width': 21.4, 'Depth': 29, 'Height': 38, 'DimUnit': 'cm'}\n",
      "{'_id': ObjectId('5d589deceaa0c7b7d09ed644'), 'ProductId': 'HT-1119', 'Category': 'Accessories', 'MainCategory': 'Computer Systems', 'TaxTarifCode': '1', 'SupplierName': 'Titanium', 'WeightMeasure': 88, 'WeightUnit': 'G', 'Description': 'Universal Travel Adapter', 'Name': 'Travel Adapter', 'ProductPicUrl': 'test-resources/sap/ui/demokit/explored/img/HT-1119.jpg', 'Status': 'Available', 'Quantity': 10, 'UoM': 'PC', 'CurrencyCode': 'EUR', 'Price': 79, 'Width': 2, 'Depth': 3.1, 'Height': 3.9, 'DimUnit': 'cm'}\n",
      "{'_id': ObjectId('5d589deceaa0c7b7d09ed645'), 'ProductId': 'HT-8000', 'Category': 'Notebook Computer', 'MainCategory': 'Computer Systems', 'TaxTarifCode': '1', 'SupplierName': 'Titanium', 'WeightMeasure': 4, 'WeightUnit': 'KG', 'Description': 'Notebook with 2,80 GHz dual core, 4 GB DDR3 SDRAM, 500 GB Hard Disc, Windows 8', 'Name': 'ITelO FlexTop I4000', 'ProductPicUrl': 'test-resources/sap/ui/demokit/explored/img/HT-8000.jpg', 'Status': 'Available', 'Quantity': 11, 'UoM': 'PC', 'CurrencyCode': 'EUR', 'Price': 799, 'Width': 31, 'Depth': 19, 'Height': 3.1, 'DimUnit': 'cm'}\n",
      "{'_id': ObjectId('5d589deceaa0c7b7d09ed646'), 'ProductId': 'HT-8001', 'Category': 'Notebook Computer', 'MainCategory': 'Computer Systems', 'TaxTarifCode': '1', 'SupplierName': 'Titanium', 'WeightMeasure': 4.2, 'WeightUnit': 'KG', 'Description': 'Notebook with 2,80 GHz dual core, 8 GB DDR3 SDRAM, 500 GB Hard Disc, Windows 8', 'Name': 'ITelO FlexTop I6300c', 'ProductPicUrl': 'test-resources/sap/ui/demokit/explored/img/HT-8001.jpg', 'Status': 'Available', 'Quantity': 20, 'UoM': 'PC', 'CurrencyCode': 'EUR', 'Price': 799, 'Width': 32, 'Depth': 20, 'Height': 3.4, 'DimUnit': 'cm'}\n",
      "{'_id': ObjectId('5d589deceaa0c7b7d09ed647'), 'ProductId': 'HT-8002', 'Category': 'Notebook Computer', 'MainCategory': 'Computer Systems', 'TaxTarifCode': '1', 'SupplierName': 'Titanium', 'WeightMeasure': 3.5, 'WeightUnit': 'KG', 'Description': 'Notebook with 2,80 GHz quad core, 4 GB DDR3 SDRAM, 1000 GB Hard Disc, Windows 8', 'Name': 'ITelO FlexTop I9100', 'ProductPicUrl': 'test-resources/sap/ui/demokit/explored/img/HT-8002.jpg', 'Status': 'Available', 'Quantity': 20, 'UoM': 'PC', 'CurrencyCode': 'EUR', 'Price': 1199, 'Width': 38, 'Depth': 21, 'Height': 4.1, 'DimUnit': 'cm'}\n",
      "{'_id': ObjectId('5d589deceaa0c7b7d09ed648'), 'ProductId': 'HT-8003', 'Category': 'Notebook Computer', 'MainCategory': 'Computer Systems', 'TaxTarifCode': '1', 'SupplierName': 'Titanium', 'WeightMeasure': 3.8, 'WeightUnit': 'KG', 'Description': 'Notebook with 2,80 GHz quad core, 8 GB DDR3 SDRAM, 1000 GB Hard Disc, Windows 8', 'Name': 'ITelO FlexTop I9800', 'ProductPicUrl': 'test-resources/sap/ui/demokit/explored/img/HT-8003.jpg', 'Status': 'Available', 'Quantity': 22, 'UoM': 'PC', 'CurrencyCode': 'EUR', 'Price': 1388, 'Width': 48, 'Depth': 31, 'Height': 4.5, 'DimUnit': 'cm'}\n",
      "{'_id': ObjectId('5d589deceaa0c7b7d09ed649'), 'ProductId': 'PF-1000', 'Category': 'Accessories', 'MainCategory': 'Computer Systems', 'TaxTarifCode': '1', 'SupplierName': 'Titanium', 'WeightMeasure': 0.01, 'WeightUnit': 'KG', 'Description': 'Flyer for our product palette', 'Name': 'Flyer', 'ProductPicUrl': 'test-resources/sap/ui/demokit/explored/img/PF-1000.jpg', 'Status': 'Available', 'Quantity': 33, 'UoM': 'PC', 'CurrencyCode': 'EUR', 'Price': 0, 'Width': 46, 'Depth': 30, 'Height': 3, 'DimUnit': 'cm'}\n",
      "{'_id': ObjectId('5d589deceaa0c7b7d09ed64a'), 'ProductId': 'HT-9999', 'Category': 'Tablets', 'MainCategory': 'Smartphones & Tablets', 'TaxTarifCode': '1', 'SupplierName': 'Titanium', 'WeightMeasure': 3.8, 'WeightUnit': 'KG', 'Description': '10.1-inch Multitouch HD Screen (1280 x 800), 16GB Internal Memory, Wireless N Wi-Fi; Bluetooth, GPS Enabled, 1GHz Dual-Core Processor', 'Name': 'Maxi Tablet', 'ProductPicUrl': 'test-resources/sap/ui/demokit/explored/img/HT-9999.jpg', 'Status': 'Available', 'Quantity': 20, 'UoM': 'PC', 'CurrencyCode': 'EUR', 'Price': 749, 'Width': 48, 'Depth': 31, 'Height': 4.5, 'DimUnit': 'cm'}\n",
      "{'_id': ObjectId('5d589deceaa0c7b7d09ed64b'), 'ProductId': 'HT-9998', 'Category': 'Smartphones and Tablets', 'MainCategory': 'Smartphones & Tablets', 'TaxTarifCode': '1', 'SupplierName': 'Titanium', 'WeightMeasure': 0.75, 'WeightUnit': 'KG', 'Description': '5 Megapixel Camera, Wi-Fi 802.11 b/g/n, Bluetooth, GPS Available-GPS support', 'Name': 'Smartphone Beta', 'ProductPicUrl': 'test-resources/sap/ui/demokit/explored/img/HT-9998.jpg', 'Status': 'Available', 'Quantity': 21, 'UoM': 'PC', 'CurrencyCode': 'EUR', 'Price': 30, 'Width': 48, 'Depth': 31, 'Height': 4.5, 'DimUnit': 'cm'}\n",
      "{'_id': ObjectId('5d589deceaa0c7b7d09ed64c'), 'ProductId': 'HT-9997', 'Category': 'Smartphones and Tablets', 'MainCategory': 'Smartphones & Tablets', 'TaxTarifCode': '1', 'SupplierName': 'Titanium', 'WeightMeasure': 3.8, 'WeightUnit': 'KG', 'Description': '6-Inch E Ink Screen, Access To e-book Store, Adjustable Font Styles and Sizes, Stores Up To 1,000 Books', 'Name': 'e-Book Reader ReadMe', 'ProductPicUrl': 'test-resources/sap/ui/demokit/explored/img/HT-9997.jpg', 'Status': 'Available', 'Quantity': 23, 'UoM': 'PC', 'CurrencyCode': 'EUR', 'Price': 33, 'Width': 48, 'Depth': 31, 'Height': 4.5, 'DimUnit': 'cm'}\n",
      "{'_id': ObjectId('5d589deceaa0c7b7d09ed64d'), 'ProductId': 'HT-9996', 'Category': 'Accessories', 'MainCategory': 'Smartphones & Tablets', 'TaxTarifCode': '1', 'SupplierName': 'Titanium', 'WeightMeasure': 0.03, 'WeightUnit': 'KG', 'Description': 'Stylish tablet pouch, protects from scratches, color: black', 'Name': 'Tablet Pouch', 'ProductPicUrl': 'test-resources/sap/ui/demokit/explored/img/HT-9996.jpg', 'Status': 'Available', 'Quantity': 34, 'UoM': 'PC', 'CurrencyCode': 'EUR', 'Price': 20, 'Width': 25, 'Depth': 40, 'Height': 4.5, 'DimUnit': 'cm'}\n",
      "{'_id': ObjectId('5d589deceaa0c7b7d09ed64e'), 'ProductId': 'HT-9995', 'Category': 'Accessories', 'MainCategory': 'Smartphones & Tablets', 'TaxTarifCode': '1', 'SupplierName': 'Titanium', 'WeightMeasure': 0.02, 'WeightUnit': 'KG', 'Description': 'Durable high quality plastic bump-sleeve, lightweight, protects from scratches, rubber coating, multiple colors available, Accurate design and cut-outs for your device, snap-on design', 'Name': 'Smartphone Cover', 'ProductPicUrl': 'test-resources/sap/ui/demokit/explored/img/HT-9995.jpg', 'Status': 'Available', 'Quantity': 23, 'UoM': 'PC', 'CurrencyCode': 'EUR', 'Price': 15, 'Width': 48, 'Depth': 31, 'Height': 4.5, 'DimUnit': 'cm'}\n",
      "{'_id': ObjectId('5d589deceaa0c7b7d09ed64f'), 'ProductId': 'HT-9994', 'Category': 'Accessories', 'MainCategory': 'TV, Video & HiFi', 'TaxTarifCode': '1', 'SupplierName': 'Ultrasonic United', 'WeightMeasure': 3.8, 'WeightUnit': 'KG', 'Description': '1920x1080 Full HD, image stabilization reduces blur, 27x Optical / 32x Extended Zoom, wide angle Lens, 2.7\" wide LCD display', 'Name': 'Camcorder View', 'ProductPicUrl': 'test-resources/sap/ui/demokit/explored/img/HT-9994.jpg', 'Status': 'Available', 'Quantity': 50, 'UoM': 'PC', 'CurrencyCode': 'EUR', 'Price': 1388, 'Width': 48, 'Depth': 31, 'Height': 27, 'DimUnit': 'cm'}\n",
      "{'_id': ObjectId('5d589deceaa0c7b7d09ed650'), 'ProductId': 'HT-9993', 'Category': 'Smartphones and Tablets', 'MainCategory': 'Smartphones & Tablets', 'TaxTarifCode': '1', 'SupplierName': 'Ultrasonic United', 'WeightMeasure': 3.8, 'WeightUnit': 'KG', 'Description': '7 inch 1280x800 HD display (216 ppi), Quad-core processor, 16 GB internal storage, 4325 mAh battery (Up to 8 hours of active use)', 'Name': 'Mini Tablet', 'ProductPicUrl': 'test-resources/sap/ui/demokit/explored/img/HT-9993.jpg', 'Status': 'Available', 'Quantity': 10, 'UoM': 'PC', 'CurrencyCode': 'EUR', 'Price': 833, 'Width': 48, 'Depth': 31, 'Height': 4.5, 'DimUnit': 'cm'}\n",
      "{'_id': ObjectId('5d589deceaa0c7b7d09ed651'), 'ProductId': 'HT-9992', 'Category': 'Smartphones and Tablets', 'MainCategory': 'Smartphones & Tablets', 'TaxTarifCode': '1', 'SupplierName': 'Ultrasonic United', 'WeightMeasure': 0.75, 'WeightUnit': 'KG', 'Description': '7 inch 1280x800 HD display (216 ppi), Quad-core processor, 16 GB internal storage (actual formatted capacity will be less), 4325 mAh battery (Up to 8 hours of active use), white or black', 'Name': 'Smartphone Alpha', 'ProductPicUrl': 'test-resources/sap/ui/demokit/explored/img/HT-9992.jpg', 'Status': 'Available', 'Quantity': 13, 'UoM': 'PC', 'CurrencyCode': 'EUR', 'Price': 599, 'Width': 48, 'Depth': 31, 'Height': 4.5, 'DimUnit': 'cm'}\n",
      "{'_id': ObjectId('5d589deceaa0c7b7d09ed652'), 'ProductId': 'HT-9991', 'Category': 'Accessories', 'MainCategory': 'Smartphones & Tablets', 'TaxTarifCode': '1', 'SupplierName': 'Ultrasonic United', 'WeightMeasure': 0.02, 'WeightUnit': 'KG', 'Description': 'Button Clasp, Quality Material, 100% Leather, compatible with many smartphone models', 'Name': 'Smartphone Leather Case', 'ProductPicUrl': 'test-resources/sap/ui/demokit/explored/img/HT-9991.jpg', 'Status': 'Available', 'Quantity': 12, 'UoM': 'PC', 'CurrencyCode': 'EUR', 'Price': 25, 'Width': 48, 'Depth': 31, 'Height': 4.5, 'DimUnit': 'cm'}\n",
      "{'_id': ObjectId('5d589deceaa0c7b7d09ed653'), 'ProductId': 'HT-1251', 'Category': 'Laptops', 'MainCategory': 'Computer Systems', 'TaxTarifCode': '1', 'SupplierName': 'Ultrasonic United', 'WeightMeasure': 4.2, 'WeightUnit': 'KG', 'Description': 'Flexible Laptop with 2,5 GHz Quad Core, 15\" HD TN, 16 GB DDR SDRAM, 256 GB SSD, Windows 10 Pro', 'Name': 'Astro Laptop 1516', 'ProductPicUrl': 'test-resources/sap/ui/demokit/explored/img/HT-1251.jpg', 'Status': 'Available', 'Quantity': 23, 'UoM': 'PC', 'CurrencyCode': 'EUR', 'Price': 989, 'Width': 30, 'Depth': 18, 'Height': 3, 'DimUnit': 'cm'}\n",
      "{'_id': ObjectId('5d589deceaa0c7b7d09ed654'), 'ProductId': 'HT-1252', 'Category': 'Smartphones and Tablets', 'MainCategory': 'Smartphones & Tablets', 'TaxTarifCode': '1', 'SupplierName': 'Ultrasonic United', 'WeightMeasure': 0.75, 'WeightUnit': 'KG', 'Description': '6 inch 1280x800 HD display (216 ppi), Quad-core processor, 8 GB internal storage (actual formatted capacity will be less), 3050 mAh battery (Up to 8 hours of active use), grey or black', 'Name': 'Astro Phone 6', 'ProductPicUrl': 'test-resources/sap/ui/demokit/explored/img/HT-1252.jpg', 'Status': 'Available', 'Quantity': 28, 'UoM': 'PC', 'CurrencyCode': 'EUR', 'Price': 649, 'Width': 8, 'Depth': 6, 'Height': 1.5, 'DimUnit': 'cm'}\n",
      "{'_id': ObjectId('5d589deceaa0c7b7d09ed655'), 'ProductId': 'HT-1253', 'Category': 'Laptops', 'MainCategory': 'Computer Systems', 'TaxTarifCode': '1', 'SupplierName': 'Ultrasonic United', 'WeightMeasure': 4.2, 'WeightUnit': 'KG', 'Description': 'Flexible Laptop with 2,5 GHz Dual Core, 14\" HD+ TN, 8 GB DDR SDRAM, 324 GB SSD, Windows 10 Pro', 'Name': 'Benda Laptop 1408', 'ProductPicUrl': 'test-resources/sap/ui/demokit/explored/img/HT-1253.jpg', 'Status': 'Available', 'Quantity': 27, 'UoM': 'PC', 'CurrencyCode': 'EUR', 'Price': 976, 'Width': 30, 'Depth': 18, 'Height': 3, 'DimUnit': 'cm'}\n",
      "{'_id': ObjectId('5d589deceaa0c7b7d09ed656'), 'ProductId': 'HT-1254', 'Category': 'Flat Screens', 'MainCategory': 'Computer Components', 'TaxTarifCode': '1', 'SupplierName': 'Ultrasonic United', 'WeightMeasure': 15, 'WeightUnit': 'KG', 'Description': 'Optimum Hi-Resolution Widescreen max. 1920 x 1080 @ 85Hz, Dot Pitch: 0.27mm, HDMI, Discontinued-Sub', 'Name': 'Bending Screen 21HD', 'ProductPicUrl': 'test-resources/sap/ui/demokit/explored/img/HT-1254.jpg', 'Status': 'Available', 'Quantity': 23, 'UoM': 'PC', 'CurrencyCode': 'EUR', 'Price': 250, 'Width': 37, 'Depth': 12, 'Height': 36, 'DimUnit': 'cm'}\n",
      "{'_id': ObjectId('5d589deceaa0c7b7d09ed657'), 'ProductId': 'HT-1255', 'Category': 'Flat Screens', 'MainCategory': 'Computer Components', 'TaxTarifCode': '1', 'SupplierName': 'Ultrasonic United', 'WeightMeasure': 16, 'WeightUnit': 'KG', 'Description': 'Optimum Hi-Resolution Widescreen max. 2048 x 1080 @ 85Hz, Dot Pitch: 0.27mm, HDMI, Discontinued-Sub', 'Name': 'Broad Screen 22HD', 'ProductPicUrl': 'test-resources/sap/ui/demokit/explored/img/HT-1255.jpg', 'Status': 'Available', 'Quantity': 5, 'UoM': 'PC', 'CurrencyCode': 'EUR', 'Price': 270, 'Width': 39, 'Depth': 12, 'Height': 38, 'DimUnit': 'cm'}\n",
      "{'_id': ObjectId('5d589deceaa0c7b7d09ed658'), 'ProductId': 'HT-1256', 'Category': 'Smartphones and Tablets', 'MainCategory': 'Smartphones & Tablets', 'TaxTarifCode': '1', 'SupplierName': 'Ultrasonic United', 'WeightMeasure': 0.75, 'WeightUnit': 'KG', 'Description': '7 inch 1280x800 HD display (216 ppi), Quad-core processor, 16 GB internal storage (actual formatted capacity will be less), 4325 mAh battery (Up to 8 hours of active use), white or black', 'Name': 'Cerdik Phone 7', 'ProductPicUrl': 'test-resources/sap/ui/demokit/explored/img/HT-1256.jpg', 'Status': 'Available', 'Quantity': 19, 'UoM': 'PC', 'CurrencyCode': 'EUR', 'Price': 549, 'Width': 9, 'Depth': 15, 'Height': 1.5, 'DimUnit': 'cm'}\n",
      "{'_id': ObjectId('5d589deceaa0c7b7d09ed659'), 'ProductId': 'HT-1257', 'Category': 'Smartphones and Tablets', 'MainCategory': 'Smartphones & Tablets', 'TaxTarifCode': '1', 'SupplierName': 'Ultrasonic United', 'WeightMeasure': 2.8, 'WeightUnit': 'KG', 'Description': '10.5-inch Multitouch HD Screen (1280 x 800), 16GB Internal Memory, Wireless N Wi-Fi; Bluetooth, GPS Enabled, 1GHz Dual-Core Processor', 'Name': 'Cepat Tablet 10.5', 'ProductPicUrl': 'test-resources/sap/ui/demokit/explored/img/HT-1257.jpg', 'Status': 'Available', 'Quantity': 17, 'UoM': 'PC', 'CurrencyCode': 'EUR', 'Price': 549, 'Width': 48, 'Depth': 31, 'Height': 4.5, 'DimUnit': 'cm'}\n",
      "{'_id': ObjectId('5d589deceaa0c7b7d09ed65a'), 'ProductId': 'HT-1258', 'Category': 'Smartphones and Tablets', 'MainCategory': 'Smartphones & Tablets', 'TaxTarifCode': '1', 'SupplierName': 'Ultrasonic United', 'WeightMeasure': 2.5, 'WeightUnit': 'KG', 'Description': '8-inch Multitouch HD Screen (2000 x 1500) 32GB Internal Memory, Wireless N Wi-Fi, Bluetooth, GPS Enabled, 1.5 GHz Quad-Core Processor', 'Name': 'Cepat Tablet 8', 'ProductPicUrl': 'test-resources/sap/ui/demokit/explored/img/HT-1258.jpg', 'Status': 'Available', 'Quantity': 24, 'UoM': 'PC', 'CurrencyCode': 'EUR', 'Price': 529, 'Width': 38, 'Depth': 21, 'Height': 3.5, 'DimUnit': 'cm'}\n"
     ]
    }
   ],
   "source": [
    "for data in res_or_query:\n",
    "    print(data)"
   ]
  }
 ],
 "metadata": {
  "kernelspec": {
   "display_name": "Python 3",
   "language": "python",
   "name": "python3"
  },
  "language_info": {
   "codemirror_mode": {
    "name": "ipython",
    "version": 3
   },
   "file_extension": ".py",
   "mimetype": "text/x-python",
   "name": "python",
   "nbconvert_exporter": "python",
   "pygments_lexer": "ipython3",
   "version": "3.7.3"
  }
 },
 "nbformat": 4,
 "nbformat_minor": 2
}
